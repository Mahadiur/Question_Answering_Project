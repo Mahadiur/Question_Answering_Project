{
 "cells": [
  {
   "metadata": {
    "collapsed": true
   },
   "cell_type": "markdown",
   "source": "### **Question Answering Project Using Fine-Tune LLM Model**",
   "id": "6dc6b23b07efb12"
  },
  {
   "metadata": {
    "ExecuteTime": {
     "end_time": "2025-10-30T15:47:05.282762Z",
     "start_time": "2025-10-30T15:47:05.280166Z"
    }
   },
   "cell_type": "code",
   "source": [
    "from typing import Any\n",
    "\n",
    "from databricks.sdk import DatabaseAPI\n",
    "from pytorch_lightning.utilities.types import STEP_OUTPUT\n",
    "from sympy.sets.sets import set_function\n",
    "from tinycss2 import tokenizer\n",
    "\n",
    "''' Import all import Libraries '''\n",
    "import pandas as pd\n",
    "import os\n",
    "import torch\n",
    "import torch.nn as nn\n",
    "from torch.utils.data import DataLoader, Dataset\n",
    "import pytorch_lightning\n",
    "from transformers import AutoTokenizer, AutoModelForQuestionAnswering"
   ],
   "id": "6924d75253f2cb45",
   "outputs": [],
   "execution_count": 17
  },
  {
   "metadata": {
    "ExecuteTime": {
     "end_time": "2025-10-30T15:47:05.296153Z",
     "start_time": "2025-10-30T15:47:05.294287Z"
    }
   },
   "cell_type": "code",
   "source": [
    "Device = torch.device(\"cuda\" if torch.cuda.is_available() else \"cpu\")\n",
    "print(f'Device: {Device}')"
   ],
   "id": "7d04d603cbe56d5",
   "outputs": [
    {
     "name": "stdout",
     "output_type": "stream",
     "text": [
      "Device: cpu\n"
     ]
    }
   ],
   "execution_count": 18
  },
  {
   "metadata": {
    "ExecuteTime": {
     "end_time": "2025-10-30T15:47:05.308171Z",
     "start_time": "2025-10-30T15:47:05.306528Z"
    }
   },
   "cell_type": "code",
   "source": [
    "''' Dataset Path '''\n",
    "Root_dir = '/Users/mahadiur/Desktop/Bongodev MLops Projects/Question Answering Using Fine-Tune LLM Model/Data'\n",
    "\n",
    "test_path = os.path.join(Root_dir, 'qna_test.csv')\n",
    "train_path = os.path.join(Root_dir, 'qna_train.csv')"
   ],
   "id": "fd61445d62303a0d",
   "outputs": [],
   "execution_count": 19
  },
  {
   "metadata": {
    "ExecuteTime": {
     "end_time": "2025-10-30T15:47:05.683163Z",
     "start_time": "2025-10-30T15:47:05.317998Z"
    }
   },
   "cell_type": "code",
   "source": [
    "''' Load Dataset '''\n",
    "train_dataset = pd.read_csv(train_path, encoding='Iso-8859-1', on_bad_lines='skip', engine='python')\n",
    "test_data = pd.read_csv(test_path, encoding='ISO-8859-1', on_bad_lines='skip', engine='python')\n",
    "\n",
    "train_dataset.head()"
   ],
   "id": "940e314cb7ed2e31",
   "outputs": [
    {
     "data": {
      "text/plain": [
       "                                             context  \\\n",
       "0  Architecturally, the school has a Catholic cha...   \n",
       "1  Architecturally, the school has a Catholic cha...   \n",
       "2  Architecturally, the school has a Catholic cha...   \n",
       "3  Architecturally, the school has a Catholic cha...   \n",
       "4  Architecturally, the school has a Catholic cha...   \n",
       "\n",
       "                                            question  \\\n",
       "0  To whom did the Virgin Mary allegedly appear i...   \n",
       "1  What is in front of the Notre Dame Main Building?   \n",
       "2  The Basilica of the Sacred heart at Notre Dame...   \n",
       "3                  What is the Grotto at Notre Dame?   \n",
       "4  What sits on top of the Main Building at Notre...   \n",
       "\n",
       "                                             answers  \n",
       "0  {'text': ['Saint Bernadette Soubirous'], 'answ...  \n",
       "1  {'text': ['a copper statue of Christ'], 'answe...  \n",
       "2  {'text': ['the Main Building'], 'answer_start'...  \n",
       "3  {'text': ['a Marian place of prayer and reflec...  \n",
       "4  {'text': ['a golden statue of the Virgin Mary'...  "
      ],
      "text/html": [
       "<div>\n",
       "<style scoped>\n",
       "    .dataframe tbody tr th:only-of-type {\n",
       "        vertical-align: middle;\n",
       "    }\n",
       "\n",
       "    .dataframe tbody tr th {\n",
       "        vertical-align: top;\n",
       "    }\n",
       "\n",
       "    .dataframe thead th {\n",
       "        text-align: right;\n",
       "    }\n",
       "</style>\n",
       "<table border=\"1\" class=\"dataframe\">\n",
       "  <thead>\n",
       "    <tr style=\"text-align: right;\">\n",
       "      <th></th>\n",
       "      <th>context</th>\n",
       "      <th>question</th>\n",
       "      <th>answers</th>\n",
       "    </tr>\n",
       "  </thead>\n",
       "  <tbody>\n",
       "    <tr>\n",
       "      <th>0</th>\n",
       "      <td>Architecturally, the school has a Catholic cha...</td>\n",
       "      <td>To whom did the Virgin Mary allegedly appear i...</td>\n",
       "      <td>{'text': ['Saint Bernadette Soubirous'], 'answ...</td>\n",
       "    </tr>\n",
       "    <tr>\n",
       "      <th>1</th>\n",
       "      <td>Architecturally, the school has a Catholic cha...</td>\n",
       "      <td>What is in front of the Notre Dame Main Building?</td>\n",
       "      <td>{'text': ['a copper statue of Christ'], 'answe...</td>\n",
       "    </tr>\n",
       "    <tr>\n",
       "      <th>2</th>\n",
       "      <td>Architecturally, the school has a Catholic cha...</td>\n",
       "      <td>The Basilica of the Sacred heart at Notre Dame...</td>\n",
       "      <td>{'text': ['the Main Building'], 'answer_start'...</td>\n",
       "    </tr>\n",
       "    <tr>\n",
       "      <th>3</th>\n",
       "      <td>Architecturally, the school has a Catholic cha...</td>\n",
       "      <td>What is the Grotto at Notre Dame?</td>\n",
       "      <td>{'text': ['a Marian place of prayer and reflec...</td>\n",
       "    </tr>\n",
       "    <tr>\n",
       "      <th>4</th>\n",
       "      <td>Architecturally, the school has a Catholic cha...</td>\n",
       "      <td>What sits on top of the Main Building at Notre...</td>\n",
       "      <td>{'text': ['a golden statue of the Virgin Mary'...</td>\n",
       "    </tr>\n",
       "  </tbody>\n",
       "</table>\n",
       "</div>"
      ]
     },
     "execution_count": 20,
     "metadata": {},
     "output_type": "execute_result"
    }
   ],
   "execution_count": 20
  },
  {
   "metadata": {},
   "cell_type": "markdown",
   "source": "### **Download Hugging face model & Tokenizer**",
   "id": "c3355a77f68340ae"
  },
  {
   "metadata": {
    "ExecuteTime": {
     "end_time": "2025-10-30T15:47:07.156444Z",
     "start_time": "2025-10-30T15:47:05.704251Z"
    }
   },
   "cell_type": "code",
   "source": [
    "\n",
    "Fine_Tune_Model_name = 'deepset/roberta-base-squad2'\n",
    "\n",
    "Fine_Tune_Model = AutoModelForQuestionAnswering.from_pretrained(Fine_Tune_Model_name)\n",
    "Tokenizer = AutoTokenizer.from_pretrained(Fine_Tune_Model_name)"
   ],
   "id": "ea89e1e9fdcd4e0d",
   "outputs": [],
   "execution_count": 21
  },
  {
   "metadata": {},
   "cell_type": "markdown",
   "source": "### **Explore Dataset**",
   "id": "d43aae67082341e1"
  },
  {
   "metadata": {
    "ExecuteTime": {
     "end_time": "2025-10-30T15:47:07.183878Z",
     "start_time": "2025-10-30T15:47:07.181641Z"
    }
   },
   "cell_type": "code",
   "source": [
    "''' Dataset column '''\n",
    "train_dataset.columns"
   ],
   "id": "39e6ded53330d64d",
   "outputs": [
    {
     "data": {
      "text/plain": [
       "Index(['context', 'question', 'answers'], dtype='object')"
      ]
     },
     "execution_count": 22,
     "metadata": {},
     "output_type": "execute_result"
    }
   ],
   "execution_count": 22
  },
  {
   "metadata": {
    "ExecuteTime": {
     "end_time": "2025-10-30T15:47:07.218448Z",
     "start_time": "2025-10-30T15:47:07.216701Z"
    }
   },
   "cell_type": "code",
   "source": [
    "idx = 0\n",
    "context = train_dataset.iloc[idx]['context']\n",
    "print(context)"
   ],
   "id": "11dfbbf789e3fc8",
   "outputs": [
    {
     "name": "stdout",
     "output_type": "stream",
     "text": [
      "Architecturally, the school has a Catholic character. Atop the Main Building's gold dome is a golden statue of the Virgin Mary. Immediately in front of the Main Building and facing it, is a copper statue of Christ with arms upraised with the legend \"Venite Ad Me Omnes\". Next to the Main Building is the Basilica of the Sacred Heart. Immediately behind the basilica is the Grotto, a Marian place of prayer and reflection. It is a replica of the grotto at Lourdes, France where the Virgin Mary reputedly appeared to Saint Bernadette Soubirous in 1858. At the end of the main drive (and in a direct line that connects through 3 statues and the Gold Dome), is a simple, modern stone statue of Mary.\n"
     ]
    }
   ],
   "execution_count": 23
  },
  {
   "metadata": {
    "ExecuteTime": {
     "end_time": "2025-10-30T15:47:07.237130Z",
     "start_time": "2025-10-30T15:47:07.235418Z"
    }
   },
   "cell_type": "code",
   "source": [
    "question = train_dataset.iloc[idx]['question']\n",
    "print(question)"
   ],
   "id": "a9dcad0840a3e576",
   "outputs": [
    {
     "name": "stdout",
     "output_type": "stream",
     "text": [
      "To whom did the Virgin Mary allegedly appear in 1858 in Lourdes France?\n"
     ]
    }
   ],
   "execution_count": 24
  },
  {
   "metadata": {
    "ExecuteTime": {
     "end_time": "2025-10-30T15:47:07.247141Z",
     "start_time": "2025-10-30T15:47:07.245544Z"
    }
   },
   "cell_type": "code",
   "source": [
    "answers = eval(train_dataset.iloc[idx]['answers'])\n",
    "print(answers['text'])\n",
    "print(answers['answer_start'])"
   ],
   "id": "9bac4a5f6d2c7b29",
   "outputs": [
    {
     "name": "stdout",
     "output_type": "stream",
     "text": [
      "['Saint Bernadette Soubirous']\n",
      "[515]\n"
     ]
    }
   ],
   "execution_count": 25
  },
  {
   "metadata": {},
   "cell_type": "markdown",
   "source": "### **Data (QnA Part 1)**",
   "id": "729718bb1a4bddf"
  },
  {
   "metadata": {
    "ExecuteTime": {
     "end_time": "2025-10-30T15:47:07.261555Z",
     "start_time": "2025-10-30T15:47:07.258760Z"
    }
   },
   "cell_type": "code",
   "source": [
    "# Dataset class\n",
    "class QnADataset(Dataset):\n",
    "    # Dataset\n",
    "    def __init__(self, dataset, tokenizer):\n",
    "        super().__init__()\n",
    "        self.dataset = dataset\n",
    "        self.tokenizer = tokenizer\n",
    "    # Find length of dataset\n",
    "    def __len__(self):\n",
    "        return len(self.dataset)\n",
    "    # Ready a Single example\n",
    "    def __getitem__(self, idx):\n",
    "        context = self.dataset[idx]['context']\n",
    "        question = self.dataset[idx]['question']\n",
    "        answers = eval(self.dataset[idx]['answers'])['text'][0]\n",
    "        answer_start = eval(self.dataset[idx]['answers'])['answer_start'][0]\n",
    "\n",
    "        try:\n",
    "            tokens = self.tokenizer.encode_plus(\n",
    "                context,\n",
    "                question,\n",
    "                add_special_tokens=True,\n",
    "                max_length=512,\n",
    "                truncation=True,\n",
    "                padding=\"max_length\",\n",
    "                return_tensors='pt',\n",
    "                return_offsets_mapping=True,\n",
    "            )\n",
    "        except Exception as e:\n",
    "            tokens = {\n",
    "                'input_ids': torch.zeros(512, dtype=torch.long),\n",
    "                'attention_mask': torch.zeros(512, dtype=torch.long),\n",
    "                'offset_mapping': torch.zeros((512,2), dtype=torch.long),\n",
    "            }\n",
    "\n",
    "\n",
    "        input_ids = tokens['input_ids'].squeeze()\n",
    "        attention_mask = tokens['attention_mask'].squeeze()\n",
    "        offset_mapping = tokens['offset_mapping'].squeeze()\n",
    "\n",
    "        start_position = 0\n",
    "        end_position = 0\n",
    "        answer_end = start_position + len(answers)\n",
    "\n",
    "        for i, (start_char, end_char) in enumerate(offset_mapping):\n",
    "            if start_position <= answer_start < end_position:\n",
    "                start_position = i\n",
    "            if start_position < answer_end <= end_position:\n",
    "                end_position = i\n",
    "                break\n",
    "\n",
    "        return {\n",
    "            'input_ids': input_ids,\n",
    "            'attention_mask': attention_mask,\n",
    "            'start_positions': torch.tensor([start_position], dtype=torch.long),\n",
    "            'end_positions': torch.tensor([end_position], dtype=torch.long),\n",
    "        }\n",
    "\n"
   ],
   "id": "3d0507d795306601",
   "outputs": [],
   "execution_count": 26
  },
  {
   "metadata": {
    "ExecuteTime": {
     "end_time": "2025-10-30T15:47:07.269246Z",
     "start_time": "2025-10-30T15:47:07.267662Z"
    }
   },
   "cell_type": "code",
   "source": [
    "# Data Module Class\n",
    "class QnADataModule(pytorch_lightning.LightningDataModule):\n",
    "    def __init__(self):\n",
    "        super().__init__()\n",
    "        pass\n",
    "\n",
    "    def setup(self, stage=None):\n",
    "        pass\n",
    "\n",
    "    def train_dataloader(self):\n",
    "        pass\n",
    "\n",
    "    def test_dataloader(self):\n",
    "        pass\n",
    "\n",
    "    def collate_fn(self, batch):\n",
    "        pass\n"
   ],
   "id": "7cdd2f1916c397bf",
   "outputs": [],
   "execution_count": 27
  },
  {
   "metadata": {
    "ExecuteTime": {
     "end_time": "2025-10-30T15:47:07.273318Z",
     "start_time": "2025-10-30T15:47:07.271759Z"
    }
   },
   "cell_type": "code",
   "source": "Data_Module = QnADataModule()",
   "id": "a4fd4c89b5b72e4f",
   "outputs": [],
   "execution_count": 28
  },
  {
   "metadata": {},
   "cell_type": "markdown",
   "source": "### **Model (QnA Part 2)**",
   "id": "8ebf1090d390b4fd"
  },
  {
   "metadata": {
    "ExecuteTime": {
     "end_time": "2025-10-30T15:47:07.276838Z",
     "start_time": "2025-10-30T15:47:07.275341Z"
    }
   },
   "cell_type": "code",
   "source": [
    "# Model\n",
    "class QnAModel(pytorch_lightning.LightningModule):\n",
    "    def __init__(self):\n",
    "        super().__init__()\n",
    "        pass\n",
    "\n",
    "    def forward(self):\n",
    "        pass\n",
    "\n",
    "    def compute_loss(self, batch):\n",
    "        pass\n",
    "\n",
    "    def training_step(self, batch, batch_idx):\n",
    "        pass\n",
    "\n",
    "    def test_step(self, batch, batch_idx):\n",
    "        pass\n",
    "\n",
    "    def configure_optimizers(self):\n",
    "        pass\n"
   ],
   "id": "bbf29735ddbebeb7",
   "outputs": [],
   "execution_count": 29
  },
  {
   "metadata": {
    "ExecuteTime": {
     "end_time": "2025-10-30T15:47:07.283967Z",
     "start_time": "2025-10-30T15:47:07.282632Z"
    }
   },
   "cell_type": "code",
   "source": "Model = QnAModel()",
   "id": "59c3068cd0b32aea",
   "outputs": [],
   "execution_count": 30
  },
  {
   "metadata": {},
   "cell_type": "markdown",
   "source": "### **Training (QnA Part 3)**",
   "id": "ddf853b74b0ededa"
  },
  {
   "metadata": {
    "ExecuteTime": {
     "end_time": "2025-10-30T15:47:07.295001Z",
     "start_time": "2025-10-30T15:47:07.287530Z"
    }
   },
   "cell_type": "code",
   "source": "Training = pytorch_lightning.Trainer( max_epochs=10)",
   "id": "13453c24e3979541",
   "outputs": [
    {
     "name": "stderr",
     "output_type": "stream",
     "text": [
      "💡 Tip: For seamless cloud uploads and versioning, try installing [litmodels](https://pypi.org/project/litmodels/) to enable LitModelCheckpoint, which syncs automatically with the Lightning model registry.\n",
      "GPU available: True (mps), used: True\n",
      "TPU available: False, using: 0 TPU cores\n",
      "HPU available: False, using: 0 HPUs\n"
     ]
    }
   ],
   "execution_count": 31
  }
 ],
 "metadata": {
  "kernelspec": {
   "display_name": "Python 3",
   "language": "python",
   "name": "python3"
  },
  "language_info": {
   "codemirror_mode": {
    "name": "ipython",
    "version": 2
   },
   "file_extension": ".py",
   "mimetype": "text/x-python",
   "name": "python",
   "nbconvert_exporter": "python",
   "pygments_lexer": "ipython2",
   "version": "2.7.6"
  }
 },
 "nbformat": 4,
 "nbformat_minor": 5
}
